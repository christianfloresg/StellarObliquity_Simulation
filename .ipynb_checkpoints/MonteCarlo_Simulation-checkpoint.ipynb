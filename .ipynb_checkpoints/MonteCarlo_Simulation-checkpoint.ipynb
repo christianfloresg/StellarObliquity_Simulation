{
 "cells": [
  {
   "cell_type": "markdown",
   "id": "89f904de",
   "metadata": {},
   "source": [
    "# Monte Carlo Simulation\n",
    "\n",
    "We aim to simulate samples of star-disk systems in which some of them are perfectly aligned while others are not. Then by 1) sampling many thousands of these sysmtes, 2) adopting uncertainties based on our data, and 3) projecting the 3D (2D?) obliquities into the plane of the sky, we want to interpret our observations.\n",
    "\n",
    "This code is build in collaboration with Siu, Wing-Yu; and it is largely based on C. Davies+ 2019(?) description."
   ]
  },
  {
   "cell_type": "code",
   "execution_count": 49,
   "id": "b309839f",
   "metadata": {},
   "outputs": [
    {
     "data": {
      "image/png": "[encoded data removed]",
      "text/plain": [
       "<Figure size 432x288 with 1 Axes>"
      ]
     },
     "metadata": {
      "needs_background": "light"
     },
     "output_type": "display_data"
    },
    {
     "name": "stdout",
     "output_type": "stream",
     "text": [
      "1.9891899697796187\n"
     ]
    }
   ],
   "source": [
    "from scipy.stats import skewnorm\n",
    "import numpy as np\n",
    "import matplotlib.pyplot as plt\n",
    "\n",
    "# Set random seed for reproducibility\n",
    "np.random.seed(42)\n",
    "\n",
    "# Set sample size\n",
    "sample_size = 10000\n",
    "\n",
    "# Define function to simulate inclinations\n",
    "\n",
    "def simulated_distributions(sample_size,alignment_fraction):\n",
    "    \"\"\"\n",
    "    Here we define the sample of inclinations for star and disks.\n",
    "    \"\"\"\n",
    "    # Determine number of aligned systems\n",
    "    n_aligned = int(sample_size * alignment_fraction) \n",
    "\n",
    "    # Simulate inclinations for aligned systems\n",
    "    inclinations_aligned = np.random.uniform(low=-180, high=180, size=n_aligned)\n",
    "    \n",
    "    # Simulate inclinations for randomly oriented systems\n",
    "    inclinations_random_star = np.random.uniform(low=-180, high=180, size=sample_size - n_aligned)\n",
    "    inclinations_random_disk = np.random.uniform(low=-180, high=180, size=sample_size - n_aligned)\n",
    "    \n",
    "    # Combine inclinations for aligned and randomly oriented systems\n",
    "    inclinations_stellar = np.concatenate((inclinations_aligned, inclinations_random_star))\n",
    "    inclinations_disc = np.concatenate((inclinations_aligned, inclinations_random_disk))\n",
    "    \n",
    "    return inclinations_stellar, inclinations_disc\n",
    "\n",
    "\n",
    "def uncertain_distributions(true_inclinations_stellar,true_inclinations_disc):\n",
    "    '''\n",
    "    Here we add the uncertainty\n",
    "    '''\n",
    "    \n",
    "    uncert_inclinations_stellar=np.empty(len(true_inclinations_stellar), dtype=float)\n",
    "    uncer_inclinations_disc=np.empty(len(true_inclinations_disc), dtype=float)\n",
    "    \n",
    "    for ii, (true_inclinations_stellar,true_inclinations_disc) in enumerate(zip(true_inclinations_stellar,true_inclinations_disc)):\n",
    "    \n",
    "        uncert_inclinations_stellar[ii] = np.random.normal(loc = true_inclinations_stellar, scale= 2.0)\n",
    "        uncer_inclinations_disc[ii] =  np.random.normal(loc = true_inclinations_disc, scale = 5.0) \n",
    "     \n",
    "    return uncert_inclinations_stellar, uncer_inclinations_disc\n",
    "        \n",
    "def plot_histogram_distrubions(stellar,disk,nbins):\n",
    "\n",
    "    fig, ax = plt.subplots()\n",
    "    \n",
    "    n,bins,patches=ax.hist([stellar,disk],bins=nbins,ec='k',rwidth=0.9)\n",
    "    ax.set_ylabel('Numb. of sources',fontsize=14)\n",
    "    ax.set_xlabel('obliquity',fontsize=14)\n",
    "\n",
    "    plt.show()\n",
    "    \n",
    "def plot_distribution_comparison(*argv):\n",
    "    \"\"\"\n",
    "    scatter plot the inclinations of different disk and stellar distributions\n",
    "    \"\"\"\n",
    "    fig, ax = plt.subplots()\n",
    "\n",
    "    for arg in argv:    \n",
    "        ax.scatter(arg[0],arg[1], s=1)\n",
    "\n",
    "    plt.xlabel('Stellar inclination (degrees)')\n",
    "    plt.ylabel('Disk inclination (degrees)')\n",
    "    plt.show()\n",
    "\n",
    "\n",
    "if __name__ == \"__main__\":\n",
    "    \n",
    "#     Simulate inclinations for 100% aligned systems\n",
    "    true_inclinations_stellar, true_inclinations_disc = simulated_distributions(sample_size=1000,alignment_fraction=0.5)\n",
    "    \n",
    "    uncert_incl_stellar, uncert_incl_disk = uncertain_distributions(true_inclinations_stellar, true_inclinations_disc)\n",
    "    \n",
    "    plot_distribution_comparison([true_inclinations_stellar, true_inclinations_disc],\n",
    "                                 [uncert_incl_stellar, uncert_incl_disk])\n",
    "    \n",
    "    residual_stellar = true_inclinations_stellar- uncert_incl_stellar\n",
    "    print(np.std(residual_stellar))\n"
   ]
  },
  {
   "cell_type": "code",
   "execution_count": null,
   "id": "64bbf8b4",
   "metadata": {},
   "outputs": [],
   "source": []
  }
 ],
 "metadata": {
  "kernelspec": {
   "display_name": "Python 3 (ipykernel)",
   "language": "python",
   "name": "python3"
  },
  "language_info": {
   "codemirror_mode": {
    "name": "ipython",
    "version": 3
   },
   "file_extension": ".py",
   "mimetype": "text/x-python",
   "name": "python",
   "nbconvert_exporter": "python",
   "pygments_lexer": "ipython3",
   "version": "3.9.12"
  }
 },
 "nbformat": 4,
 "nbformat_minor": 5
}
